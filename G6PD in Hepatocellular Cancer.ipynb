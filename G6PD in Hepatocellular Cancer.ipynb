{
 "cells": [
  {
   "cell_type": "markdown",
   "metadata": {},
   "source": [
    "G6PD in Hepatocellular Cancer"
   ]
  },
  {
   "cell_type": "markdown",
   "metadata": {},
   "source": [
    "G6PD upregulation correlates with higher tumor grade, increased tumor recurrence and poor patient survival."
   ]
  },
  {
   "cell_type": "markdown",
   "metadata": {},
   "source": [
    "Ectopic expression of the liver-specific microRNA-122 (miR-122) with microRNA-1 represses G6PD in hepatocellular carcinoma (HCC) cells. miR-122 interacts directly with the 3' UTR of G6PD."
   ]
  },
  {
   "cell_type": "markdown",
   "metadata": {},
   "source": [
    "Bcl-2 associated athanogene 3 (BAG3) suppresses PPP flux, de novo DNA synthesis and cell growth of HCC through interaction with G6PD. Cellular NADPH concentrations are not affected."
   ]
  },
  {
   "cell_type": "code",
   "execution_count": null,
   "metadata": {},
   "outputs": [],
   "source": []
  }
 ],
 "metadata": {
  "kernelspec": {
   "display_name": "Python 3",
   "language": "python",
   "name": "python3"
  },
  "language_info": {
   "codemirror_mode": {
    "name": "ipython",
    "version": 3
   },
   "file_extension": ".py",
   "mimetype": "text/x-python",
   "name": "python",
   "nbconvert_exporter": "python",
   "pygments_lexer": "ipython3",
   "version": "3.8.0"
  }
 },
 "nbformat": 4,
 "nbformat_minor": 4
}
